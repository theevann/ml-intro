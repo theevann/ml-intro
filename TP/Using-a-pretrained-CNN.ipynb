{
 "cells": [
  {
   "cell_type": "code",
   "execution_count": null,
   "metadata": {},
   "outputs": [],
   "source": [
    "import torch\n",
    "import torchvision\n",
    "from torchvision import transforms\n",
    "\n",
    "import pickle\n",
    "import numpy as np\n",
    "from PIL import Image\n",
    "from urllib.request import urlopen\n",
    "\n",
    "torch.set_grad_enabled(False);"
   ]
  },
  {
   "cell_type": "markdown",
   "metadata": {},
   "source": [
    "# Utiliser un réseau pré-entrainé"
   ]
  },
  {
   "cell_type": "code",
   "execution_count": null,
   "metadata": {},
   "outputs": [],
   "source": [
    "# Pour charger un CNN déjà entrainé\n",
    "cnn_model = torchvision.models.resnet34(pretrained=True)\n",
    "cnn_model.eval()\n",
    "\n",
    "# Pour définir un dictionnaire python qui associe à chaque index le nom de la classe correspondante \n",
    "idx_to_class = np.array(list(pickle.load(urlopen('https://gist.githubusercontent.com/yrevar/6135f1bd8dcf2e0cc683/raw/d133d61a09d7e5a3b36b8c111a8dd5c4b5d560ee/imagenet1000_clsid_to_human.pkl')).values()))\n",
    "\n",
    "# Pour transformer l'image en \"Tenseur\" que le modèle peut utiliser\n",
    "transform = transforms.Compose([\n",
    "    transforms.Resize(300),\n",
    "    transforms.ToTensor(),\n",
    "    transforms.Normalize([0.485, 0.456, 0.406], [0.229, 0.224, 0.225]),\n",
    "    transforms.Lambda(lambda x: x.unsqueeze(0))\n",
    "])"
   ]
  },
  {
   "cell_type": "code",
   "execution_count": null,
   "metadata": {},
   "outputs": [],
   "source": [
    "# Decrit le modele\n",
    "print(cnn_model)"
   ]
  },
  {
   "cell_type": "code",
   "execution_count": null,
   "metadata": {
    "scrolled": false
   },
   "outputs": [],
   "source": [
    "# Choisissez un image sur internet\n",
    "\n",
    "# URL d'images : volcan, chat\n",
    "url_volcan = \"https://www.reunion.fr/sites/crt-reunion/files/styles/ogimage/public/visuel/volcan10eruption-creditirt-sergegelabertdts1220141.jpg?itok=wA6gronH\"\n",
    "url_chat = \"https://farm1.static.flickr.com/196/443645811_8c4bb1af50.jpg\"\n",
    "\n",
    "url = url_volcan\n",
    "image = Image.open(urlopen(url))\n",
    "image"
   ]
  },
  {
   "cell_type": "code",
   "execution_count": null,
   "metadata": {},
   "outputs": [],
   "source": [
    "# Transforme l'image en Tenseur\n",
    "tensor = transform(image)\n",
    "\n",
    "# Calcule les probabilités pour chaque classe en utilisant le CNN\n",
    "outputs = cnn_model(tensor)[0]\n",
    "probabilities = outputs.softmax(0)\n",
    "\n",
    "# Affiche la classe la plus probable\n",
    "max_prob, max_index = probabilities.topk(1)\n",
    "max_class = idx_to_class[max_index]\n",
    "print(\"Prediction: {} - Probability: {:.1%}\".format(max_class, max_prob.item()))"
   ]
  },
  {
   "cell_type": "code",
   "execution_count": null,
   "metadata": {},
   "outputs": [],
   "source": [
    "# Affiche les 5 classes les plus probables\n",
    "pbs, ids = probabilities.topk(5)\n",
    "\n",
    "for elmt in zip(idx_to_class[ids], pbs):\n",
    "    print(\"{:20} : {:.1%}\".format(*elmt))"
   ]
  }
 ],
 "metadata": {
  "kernelspec": {
   "display_name": "Python 3",
   "language": "python",
   "name": "python3"
  },
  "language_info": {
   "codemirror_mode": {
    "name": "ipython",
    "version": 3
   },
   "file_extension": ".py",
   "mimetype": "text/x-python",
   "name": "python",
   "nbconvert_exporter": "python",
   "pygments_lexer": "ipython3",
   "version": "3.6.8"
  }
 },
 "nbformat": 4,
 "nbformat_minor": 2
}
